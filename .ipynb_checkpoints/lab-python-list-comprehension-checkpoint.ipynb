{
 "cells": [
  {
   "cell_type": "markdown",
   "id": "25d7736c-ba17-4aff-b6bb-66eba20fbf4e",
   "metadata": {},
   "source": [
    "# Lab | List, Dict and Set Comprehension"
   ]
  },
  {
   "cell_type": "markdown",
   "id": "7dd3cbde-675a-4b81-92c3-f728846dbe06",
   "metadata": {},
   "source": [
    "## Exercise: Managing Customer Orders Optimized with Comprehension"
   ]
  },
  {
   "cell_type": "markdown",
   "id": "5d500160-2fb7-4777-b5e4-09d45ebaf328",
   "metadata": {},
   "source": [
    "In the previous exercise, you developed a program to manage customer orders and inventory. Now, let's take it a step further and incorporate comprehension into your code.\n",
    "\n",
    "Follow the steps below to complete the exercise:\n",
    "\n",
    "1. Review your code from the previous exercise and identify areas where you can apply comprehension to simplify and streamline your code. \n",
    "\n",
    "    - *Hint: Apply it to initialize inventory, updating the inventory and printing the updated inventory.*\n",
    "    \n",
    "    - For example, in initializing the inventory, we could have:\n",
    "    \n",
    "        ```python\n",
    "        def initialize_inventory(products):\n",
    "            inventory = {product: int(input(f\"Enter the quantity of {product}s available: \")) for product in products}\n",
    "            return inventory\n",
    "\n",
    "        ```\n",
    "<br>\n",
    "    \n",
    "    \n",
    "2. Modify the function get_customer_orders so it prompts the user to enter the number of customer orders and gathers the product names using a loop and user input. Use comprehension.\n",
    "\n",
    "3. Add a new function to calculate the total price of the customer order. For each product in customer_orders, prompt the user to enter the price of that product. Use comprehension to calculate the total price. Note: assume that the user can only have 1 unit of each product.\n",
    "\n",
    "4. Modify the update_inventory function to remove the product from the inventory if its quantity becomes zero after fulfilling the customer orders. Use comprehension to filter out the products with a quantity of zero from the inventory.\n",
    "\n",
    "5. Print the total price of the customer order.\n",
    "\n",
    "Your code should produce output similar to the following:\n",
    "\n",
    "```python\n",
    "Enter the quantity of t-shirts available:  5\n",
    "Enter the quantity of mugs available:  4\n",
    "Enter the quantity of hats available:  3\n",
    "Enter the quantity of books available:  2\n",
    "Enter the quantity of keychains available:  1\n",
    "Enter the number of customer orders:  2\n",
    "Enter the name of a product that a customer wants to order:  hat\n",
    "Enter the name of a product that a customer wants to order:  keychain\n",
    "\n",
    "Order Statistics:\n",
    "Total Products Ordered: 2\n",
    "Percentage of Unique Products Ordered: 40.0\n",
    "\n",
    "Updated Inventory:\n",
    "t-shirt: 5\n",
    "mug: 4\n",
    "hat: 2\n",
    "book: 2\n",
    "Enter the price of keychain:  5\n",
    "Enter the price of hat:  10\n",
    "Total Price: 15.0\n",
    "\n",
    "```\n"
   ]
  },
  {
   "cell_type": "code",
   "execution_count": 9,
   "id": "b1695dfc-2a54-4713-8f72-67f52d660b80",
   "metadata": {},
   "outputs": [
    {
     "name": "stdin",
     "output_type": "stream",
     "text": [
      "Enter the quantity of t-shirts available:  10\n",
      "Enter the quantity of mugs available:  10\n",
      "Enter the quantity of hats available:  10\n",
      "Enter the quantity of books available:  10\n",
      "Enter the quantity of keychains available:  10\n",
      "how many items do you want to order? 2\n",
      "Please write your order:  book\n",
      "Please write your order:  mug\n"
     ]
    },
    {
     "name": "stdout",
     "output_type": "stream",
     "text": [
      "{'book', 'mug'}\n"
     ]
    },
    {
     "name": "stdin",
     "output_type": "stream",
     "text": [
      "Please enter a price for book:  10\n",
      "Please enter a price for mug:  20\n"
     ]
    },
    {
     "name": "stdout",
     "output_type": "stream",
     "text": [
      "the total price is  30\n",
      "total items ordered is  2 and percentage of unique products ordered is  40.0\n"
     ]
    }
   ],
   "source": [
    "products = [\"t-shirt\", \"mug\", \"hat\", \"book\", \"keychain\"]\n",
    "\n",
    "def initialize_inventory(products):\n",
    "    inventory = {product: int(input(f\"Enter the quantity of {product}s available: \")) for product in products}\n",
    "    return inventory\n",
    "def get_customer_orders():\n",
    "    customer_orders = set()\n",
    "    customer_order_count = int(input(\"how many items do you want to order?\"))\n",
    "    customer_orders = {input(\"Please write your order: \") for i in range(customer_order_count)}\n",
    "    return customer_orders\n",
    "\n",
    "inventory = initialize_inventory(products)\n",
    "customer_orders = get_customer_orders()\n",
    "print(customer_orders)\n",
    "\n",
    "def total_price():\n",
    "    price = [int(input(f\"Please enter a price for {order}: \")) for order in customer_orders]\n",
    "    total_price = sum(price)\n",
    "    return total_price \n",
    "\n",
    "\n",
    "def update_inventory(customer_orders, inventory):\n",
    "    updated_inventory = inventory.copy()  \n",
    "    \n",
    "    for product in customer_orders:\n",
    "        if product in updated_inventory:\n",
    "            if updated_inventory[product] > 0:\n",
    "                updated_inventory[product] -= 1  \n",
    "            if updated_inventory[product] == 0:\n",
    "                del updated_inventory[product]  \n",
    "    \n",
    "    return updated_inventory\n",
    "\n",
    "update_inventory(customer_orders, inventory)\n",
    "\n",
    "def calculate_order_statistics(customer_orders, products):\n",
    "    total_orders = len(customer_orders)\n",
    "    percentage = (total_orders / len(products)) * 100\n",
    "    order_statistics = total_orders, percentage\n",
    "    return order_statistics\n",
    "\n",
    "statistics = calculate_order_statistics(customer_orders, products)\n",
    "price = total_price()\n",
    "print(\"the total price is \", price)\n",
    "print(\"total items ordered is \", statistics[0], \"and percentage of unique products ordered is \", statistics[1])\n",
    "\n"
   ]
  },
  {
   "cell_type": "code",
   "execution_count": null,
   "id": "b52a0bc8-2f44-4821-9382-8f710752ef74",
   "metadata": {},
   "outputs": [],
   "source": [
    "def total_price():\n",
    "    price = [int(input(f\"Please enter a price for {order}: \")) for order in customer_orders]\n",
    "    total_price = sum(price)\n",
    "    return total_price \n",
    "\n",
    "price = total_price()\n",
    "print(price)"
   ]
  },
  {
   "cell_type": "code",
   "execution_count": null,
   "id": "91e91d43-2f9c-4433-9117-5e4605ddc5d3",
   "metadata": {},
   "outputs": [],
   "source": [
    "def update_inventory(customer_orders, inventory):\n",
    "    updated_inventory = inventory.copy()  \n",
    "    \n",
    "    for product in customer_orders:\n",
    "        if product in updated_inventory:\n",
    "            if updated_inventory[product] > 0:\n",
    "                updated_inventory[product] -= 1  \n",
    "            if updated_inventory[product] == 0:\n",
    "                del updated_inventory[product]  \n",
    "    \n",
    "    return updated_inventory\n",
    "\n",
    "update_inventory(customer_orders, inventory)\n"
   ]
  },
  {
   "cell_type": "code",
   "execution_count": null,
   "id": "fdf70958-6983-49a1-b9b6-b2ae3bdb8566",
   "metadata": {},
   "outputs": [],
   "source": []
  },
  {
   "cell_type": "code",
   "execution_count": null,
   "id": "955d21b0-f2b8-465c-8aae-ae675243a868",
   "metadata": {},
   "outputs": [],
   "source": [
    "price = total_price()\n",
    "print(\"the total price is \", price)"
   ]
  },
  {
   "cell_type": "code",
   "execution_count": null,
   "id": "cbe948d5-a643-41a5-b0aa-b6f7ca7cc3b8",
   "metadata": {},
   "outputs": [],
   "source": []
  }
 ],
 "metadata": {
  "kernelspec": {
   "display_name": "Python 3 (ipykernel)",
   "language": "python",
   "name": "python3"
  },
  "language_info": {
   "codemirror_mode": {
    "name": "ipython",
    "version": 3
   },
   "file_extension": ".py",
   "mimetype": "text/x-python",
   "name": "python",
   "nbconvert_exporter": "python",
   "pygments_lexer": "ipython3",
   "version": "3.12.4"
  }
 },
 "nbformat": 4,
 "nbformat_minor": 5
}
